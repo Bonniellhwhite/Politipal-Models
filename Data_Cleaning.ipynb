{
 "cells": [
  {
   "cell_type": "markdown",
   "metadata": {},
   "source": [
    "# Goal: <br> \n",
    "Create a model that can predict the outcome of bills based on previous similar bills and legislator history "
   ]
  },
  {
   "cell_type": "markdown",
   "metadata": {},
   "source": [
    "# 1. Picking A Dataset #"
   ]
  },
  {
   "cell_type": "markdown",
   "metadata": {},
   "source": [
    "Data Retrieval Locations: <br>\n",
    "Congress.gov API <br>\n",
    "OpenSecrets API <br>\n",
    "Kaggle Legisator information csvs<br>\n",
    "\n",
    "- I need to find columns in each of these datasources and then extract the ones that I think will be useful. <br> \n",
    "- To help at least keep data focused I am going to narrow entries down to this term (118th congress) for predictions, and last term (117th) for training data <br>\n",
    "- The given legislator data looks really good for current database information, maybe not for training data here \n",
    "- I may get most data from the APIS"
   ]
  },
  {
   "cell_type": "markdown",
   "metadata": {},
   "source": [
    "# Getting the data from APIs\n",
    "- Open Secrets.com \n",
    "- Congress.gov"
   ]
  },
  {
   "cell_type": "code",
   "execution_count": 1,
   "metadata": {},
   "outputs": [
    {
     "name": "stdout",
     "output_type": "stream",
     "text": [
      "None None\n"
     ]
    }
   ],
   "source": [
    "# Libraries for all API functions \n",
    "import requests\n",
    "import pandas as pd\n",
    "import os\n",
    "\n",
    "OSAPI_key = os.getenv('OPENSECRETS_API_KEY') \n",
    "congressAPI_key = os.getenv('CONGRESS_API_KEY')\n",
    "print(OSAPI_key,congressAPI_key)"
   ]
  },
  {
   "cell_type": "code",
   "execution_count": null,
   "metadata": {},
   "outputs": [],
   "source": [
    "# Function to fetch data from the API\n",
    "def fetch_data(api_key):\n",
    "    # Replace [INSERT_KEY] with your actual API key\n",
    "    url = f\"https://api.congress.gov/v3/bill?api_key={api_key}\"\n",
    "    response = requests.get(url)\n",
    "    \n",
    "    # Check if the request was successful\n",
    "    if response.status_code == 200:\n",
    "        return response.json()  # Return JSON data\n",
    "    else:\n",
    "        return None  # Return None if there was an error"
   ]
  },
  {
   "cell_type": "code",
   "execution_count": 3,
   "metadata": {},
   "outputs": [
    {
     "ename": "NameError",
     "evalue": "name 'data' is not defined",
     "output_type": "error",
     "traceback": [
      "\u001b[1;31m---------------------------------------------------------------------------\u001b[0m",
      "\u001b[1;31mNameError\u001b[0m                                 Traceback (most recent call last)",
      "Cell \u001b[1;32mIn[3], line 1\u001b[0m\n\u001b[1;32m----> 1\u001b[0m \u001b[38;5;28;01mif\u001b[39;00m \u001b[43mdata\u001b[49m:\n\u001b[0;32m      2\u001b[0m     \u001b[38;5;66;03m# Convert JSON data to Pandas DataFrame\u001b[39;00m\n\u001b[0;32m      3\u001b[0m     df \u001b[38;5;241m=\u001b[39m pd\u001b[38;5;241m.\u001b[39mjson_normalize(data)\n\u001b[0;32m      5\u001b[0m     \u001b[38;5;66;03m# Save the DataFrame to CSV\u001b[39;00m\n",
      "\u001b[1;31mNameError\u001b[0m: name 'data' is not defined"
     ]
    }
   ],
   "source": [
    "data = fetch_data(api_key)\n",
    "if data:\n",
    "    # Convert JSON data to Pandas DataFrame\n",
    "    df = pd.json_normalize(data)\n",
    "    \n",
    "    # Save the DataFrame to CSV\n",
    "    df.to_csv('data.csv', index=False)\n",
    "    print(\"Data has been successfully converted to CSV.\")\n",
    "else:\n",
    "    print(\"Failed to fetch data from the API.\")"
   ]
  }
 ],
 "metadata": {
  "kernelspec": {
   "display_name": "Python 3",
   "language": "python",
   "name": "python3"
  },
  "language_info": {
   "codemirror_mode": {
    "name": "ipython",
    "version": 3
   },
   "file_extension": ".py",
   "mimetype": "text/x-python",
   "name": "python",
   "nbconvert_exporter": "python",
   "pygments_lexer": "ipython3",
   "version": "3.10.7"
  }
 },
 "nbformat": 4,
 "nbformat_minor": 2
}
